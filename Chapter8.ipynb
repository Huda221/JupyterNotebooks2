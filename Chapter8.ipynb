{
 "cells": [
  {
   "cell_type": "markdown",
   "id": "625fe7c6",
   "metadata": {},
   "source": [
    "# Lists Chapter 8"
   ]
  },
  {
   "cell_type": "code",
   "execution_count": 1,
   "id": "dd0c936d",
   "metadata": {},
   "outputs": [
    {
     "name": "stdout",
     "output_type": "stream",
     "text": [
      "5\n"
     ]
    }
   ],
   "source": [
    "x=2\n",
    "x=5\n",
    "print(x)"
   ]
  },
  {
   "cell_type": "code",
   "execution_count": 2,
   "id": "e081f045",
   "metadata": {},
   "outputs": [
    {
     "name": "stdout",
     "output_type": "stream",
     "text": [
      "{}\n"
     ]
    }
   ],
   "source": [
    "print({})"
   ]
  },
  {
   "cell_type": "code",
   "execution_count": 4,
   "id": "dbfbf718",
   "metadata": {},
   "outputs": [
    {
     "name": "stdout",
     "output_type": "stream",
     "text": [
      "[1, 4, 6]\n"
     ]
    }
   ],
   "source": [
    "print([1,4,6])"
   ]
  },
  {
   "cell_type": "code",
   "execution_count": 5,
   "id": "066c67ea",
   "metadata": {},
   "outputs": [
    {
     "name": "stdout",
     "output_type": "stream",
     "text": [
      "[1, [2, 3], 5, 7]\n"
     ]
    }
   ],
   "source": [
    "print([1,[2,3],5,7])"
   ]
  },
  {
   "cell_type": "code",
   "execution_count": 6,
   "id": "b41bb8f6",
   "metadata": {},
   "outputs": [
    {
     "name": "stdout",
     "output_type": "stream",
     "text": [
      "hello huda\n"
     ]
    }
   ],
   "source": [
    "print(\"hello\",\"huda\")"
   ]
  },
  {
   "cell_type": "code",
   "execution_count": 8,
   "id": "21f327f4",
   "metadata": {},
   "outputs": [
    {
     "name": "stdout",
     "output_type": "stream",
     "text": [
      "5\n",
      "4\n",
      "3\n",
      "2\n",
      "1\n",
      "Blastoff!\n"
     ]
    }
   ],
   "source": [
    "for i in [5,4,3,2,1]:\n",
    "    print(i)\n",
    "print(\"Blastoff!\")    "
   ]
  },
  {
   "cell_type": "code",
   "execution_count": 13,
   "id": "ecb4f229",
   "metadata": {},
   "outputs": [
    {
     "name": "stdout",
     "output_type": "stream",
     "text": [
      "Happy New Year: Huda\n",
      "Happy New Year: Amna\n",
      "Happy New Year: Sundas\n",
      "Done!\n"
     ]
    }
   ],
   "source": [
    "fellows = ['Huda','Amna','Sundas']\n",
    "for fellow in fellows:\n",
    "    print('Happy New Year:',fellow)\n",
    "print('Done!')    "
   ]
  },
  {
   "cell_type": "code",
   "execution_count": 14,
   "id": "9bcbf25a",
   "metadata": {},
   "outputs": [
    {
     "name": "stdout",
     "output_type": "stream",
     "text": [
      "Sundas\n"
     ]
    }
   ],
   "source": [
    "fellows = ['Huda','Amna','Sundas']\n",
    "print(fellows[2])"
   ]
  },
  {
   "cell_type": "code",
   "execution_count": 15,
   "id": "87cd869f",
   "metadata": {},
   "outputs": [
    {
     "name": "stdout",
     "output_type": "stream",
     "text": [
      "9\n"
     ]
    }
   ],
   "source": [
    "a = 'I am Huda'\n",
    "print(len(a))"
   ]
  },
  {
   "cell_type": "code",
   "execution_count": 16,
   "id": "7a30d263",
   "metadata": {},
   "outputs": [
    {
     "name": "stdout",
     "output_type": "stream",
     "text": [
      "range(0, 4)\n"
     ]
    }
   ],
   "source": [
    "print(range(4))"
   ]
  },
  {
   "cell_type": "code",
   "execution_count": 17,
   "id": "bfd7d60b",
   "metadata": {},
   "outputs": [
    {
     "name": "stdout",
     "output_type": "stream",
     "text": [
      "3\n"
     ]
    }
   ],
   "source": [
    "fellows = ['Huda','Amna','Sundas']\n",
    "print(len(fellows))"
   ]
  },
  {
   "cell_type": "code",
   "execution_count": 18,
   "id": "480336b9",
   "metadata": {},
   "outputs": [
    {
     "name": "stdout",
     "output_type": "stream",
     "text": [
      "range(0, 3)\n"
     ]
    }
   ],
   "source": [
    "print(range(len(fellows)))"
   ]
  },
  {
   "cell_type": "code",
   "execution_count": 19,
   "id": "88432b20",
   "metadata": {},
   "outputs": [
    {
     "name": "stdout",
     "output_type": "stream",
     "text": [
      "[1, 2, 3, 4, 5, 6]\n"
     ]
    }
   ],
   "source": [
    "a = [1,2,3]\n",
    "b = [4,5,6]\n",
    "c = a + b\n",
    "print(c)"
   ]
  },
  {
   "cell_type": "code",
   "execution_count": 21,
   "id": "772d9532",
   "metadata": {},
   "outputs": [
    {
     "name": "stdout",
     "output_type": "stream",
     "text": [
      "[1, 2, 3]\n"
     ]
    }
   ],
   "source": [
    "print(a)"
   ]
  },
  {
   "cell_type": "code",
   "execution_count": 22,
   "id": "01742851",
   "metadata": {},
   "outputs": [
    {
     "data": {
      "text/plain": [
       "[5, 7]"
      ]
     },
     "execution_count": 22,
     "metadata": {},
     "output_type": "execute_result"
    }
   ],
   "source": [
    "x = [2,5,7,9,22,44,66,45,91]\n",
    "x[1:3]"
   ]
  },
  {
   "cell_type": "code",
   "execution_count": 23,
   "id": "9e847c81",
   "metadata": {},
   "outputs": [
    {
     "data": {
      "text/plain": [
       "[2, 5, 7, 9]"
      ]
     },
     "execution_count": 23,
     "metadata": {},
     "output_type": "execute_result"
    }
   ],
   "source": [
    "x[:4]"
   ]
  },
  {
   "cell_type": "code",
   "execution_count": 24,
   "id": "a72841f0",
   "metadata": {},
   "outputs": [
    {
     "data": {
      "text/plain": [
       "[9, 22, 44, 66, 45, 91]"
      ]
     },
     "execution_count": 24,
     "metadata": {},
     "output_type": "execute_result"
    }
   ],
   "source": [
    "x[3:]"
   ]
  },
  {
   "cell_type": "code",
   "execution_count": 25,
   "id": "b69bba22",
   "metadata": {},
   "outputs": [
    {
     "data": {
      "text/plain": [
       "[2, 5, 7, 9, 22, 44, 66, 45, 91]"
      ]
     },
     "execution_count": 25,
     "metadata": {},
     "output_type": "execute_result"
    }
   ],
   "source": [
    "x[:]"
   ]
  },
  {
   "cell_type": "code",
   "execution_count": 26,
   "id": "57835914",
   "metadata": {},
   "outputs": [
    {
     "name": "stdout",
     "output_type": "stream",
     "text": [
      "['Hello', 100]\n"
     ]
    }
   ],
   "source": [
    "y = list()\n",
    "y.append('Hello')\n",
    "y.append(100)\n",
    "print(y)"
   ]
  },
  {
   "cell_type": "code",
   "execution_count": 27,
   "id": "0045486d",
   "metadata": {},
   "outputs": [
    {
     "data": {
      "text/plain": [
       "True"
      ]
     },
     "execution_count": 27,
     "metadata": {},
     "output_type": "execute_result"
    }
   ],
   "source": [
    "some = [1,2,3,4,5,6,7,8,9,10]\n",
    "8 in some"
   ]
  },
  {
   "cell_type": "code",
   "execution_count": 28,
   "id": "899ce407",
   "metadata": {},
   "outputs": [
    {
     "data": {
      "text/plain": [
       "False"
      ]
     },
     "execution_count": 28,
     "metadata": {},
     "output_type": "execute_result"
    }
   ],
   "source": [
    "11 in some"
   ]
  },
  {
   "cell_type": "code",
   "execution_count": 29,
   "id": "71cfb5e6",
   "metadata": {},
   "outputs": [
    {
     "name": "stdout",
     "output_type": "stream",
     "text": [
      "['Amna', 'Huda', 'Sundas']\n"
     ]
    }
   ],
   "source": [
    "fellows = ['Huda','Amna','Sundas']\n",
    "fellows.sort()\n",
    "print(fellows)"
   ]
  },
  {
   "cell_type": "code",
   "execution_count": 30,
   "id": "38979c33",
   "metadata": {},
   "outputs": [
    {
     "name": "stdout",
     "output_type": "stream",
     "text": [
      "9\n",
      "91\n",
      "2\n",
      "291\n",
      "32.333333333333336\n"
     ]
    }
   ],
   "source": [
    "x = [2,5,7,9,22,44,66,45,91]\n",
    "print(len(x))\n",
    "print(max(x))\n",
    "print(min(x))\n",
    "print(sum(x))\n",
    "print(sum(x)/len(x))"
   ]
  },
  {
   "cell_type": "code",
   "execution_count": null,
   "id": "b1b6e4dd",
   "metadata": {},
   "outputs": [],
   "source": []
  }
 ],
 "metadata": {
  "kernelspec": {
   "display_name": "Python 3 (ipykernel)",
   "language": "python",
   "name": "python3"
  },
  "language_info": {
   "codemirror_mode": {
    "name": "ipython",
    "version": 3
   },
   "file_extension": ".py",
   "mimetype": "text/x-python",
   "name": "python",
   "nbconvert_exporter": "python",
   "pygments_lexer": "ipython3",
   "version": "3.11.4"
  }
 },
 "nbformat": 4,
 "nbformat_minor": 5
}
