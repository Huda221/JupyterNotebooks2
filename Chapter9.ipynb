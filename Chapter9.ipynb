{
 "cells": [
  {
   "cell_type": "markdown",
   "id": "049148e2",
   "metadata": {},
   "source": [
    "# Python Dictionaries Chapter 9"
   ]
  },
  {
   "cell_type": "code",
   "execution_count": 1,
   "id": "1fcba35e",
   "metadata": {},
   "outputs": [
    {
     "name": "stdout",
     "output_type": "stream",
     "text": [
      "{'money': 12, 'candy': 50, 'tissues': 34}\n"
     ]
    }
   ],
   "source": [
    "x = dict()\n",
    "x['money']=12\n",
    "x['candy']=50\n",
    "x['tissues']=34\n",
    "print(x)"
   ]
  },
  {
   "cell_type": "code",
   "execution_count": 2,
   "id": "70442b76",
   "metadata": {},
   "outputs": [
    {
     "name": "stdout",
     "output_type": "stream",
     "text": [
      "50\n"
     ]
    }
   ],
   "source": [
    "print(x['candy'])"
   ]
  },
  {
   "cell_type": "code",
   "execution_count": 3,
   "id": "3fe0656e",
   "metadata": {},
   "outputs": [
    {
     "name": "stdout",
     "output_type": "stream",
     "text": [
      "{'money': 12, 'candy': 84, 'tissues': 34}\n"
     ]
    }
   ],
   "source": [
    "x['candy']=x['candy']+34\n",
    "print(x)"
   ]
  },
  {
   "cell_type": "code",
   "execution_count": 4,
   "id": "3c896a54",
   "metadata": {},
   "outputs": [
    {
     "name": "stdout",
     "output_type": "stream",
     "text": [
      "{'United States': 'Washington D.C.', 'Italy': 'Rome', 'England': 'London'}\n"
     ]
    }
   ],
   "source": [
    "country_capitals = {\n",
    "  \"United States\": \"Washington D.C.\", \n",
    "  \"Italy\": \"Rome\", \n",
    "  \"England\": \"London\"\n",
    "}\n",
    "\n",
    "print(country_capitals)"
   ]
  },
  {
   "cell_type": "code",
   "execution_count": 5,
   "id": "b3eb408a",
   "metadata": {},
   "outputs": [
    {
     "name": "stdout",
     "output_type": "stream",
     "text": [
      "3\n"
     ]
    }
   ],
   "source": [
    "print(len(country_capitals)) "
   ]
  },
  {
   "cell_type": "code",
   "execution_count": 6,
   "id": "026957f5",
   "metadata": {},
   "outputs": [
    {
     "name": "stdout",
     "output_type": "stream",
     "text": [
      "Washington D.C.\n",
      "London\n"
     ]
    }
   ],
   "source": [
    "print(country_capitals[\"United States\"])  \n",
    "\n",
    "print(country_capitals[\"England\"]) \n"
   ]
  },
  {
   "cell_type": "code",
   "execution_count": 7,
   "id": "10d9c92f",
   "metadata": {},
   "outputs": [
    {
     "name": "stdout",
     "output_type": "stream",
     "text": [
      "{'United States': 'Washington D.C.', 'Italy': 'Naples', 'Germany': 'Berlin'}\n"
     ]
    }
   ],
   "source": [
    "country_capitals = {\n",
    "  \"United States\": \"Washington D.C.\", \n",
    "  \"Italy\": \"Naples\" \n",
    "}\n",
    "country_capitals[\"Germany\"] = \"Berlin\"\n",
    "\n",
    "print(country_capitals)"
   ]
  },
  {
   "cell_type": "code",
   "execution_count": 8,
   "id": "f4ab400d",
   "metadata": {},
   "outputs": [
    {
     "name": "stdout",
     "output_type": "stream",
     "text": [
      "True\n",
      "False\n",
      "False\n"
     ]
    }
   ],
   "source": [
    "my_list = {1: \"Hello\", \"Hi\": 25, \"Howdy\": 100}\n",
    "\n",
    "print(1 in my_list) \n",
    "print(\"Howdy\" not in my_list) \n",
    "\n",
    "print(\"Hello\" in my_list) "
   ]
  },
  {
   "cell_type": "code",
   "execution_count": null,
   "id": "fdf660dd",
   "metadata": {},
   "outputs": [],
   "source": []
  }
 ],
 "metadata": {
  "kernelspec": {
   "display_name": "Python 3 (ipykernel)",
   "language": "python",
   "name": "python3"
  },
  "language_info": {
   "codemirror_mode": {
    "name": "ipython",
    "version": 3
   },
   "file_extension": ".py",
   "mimetype": "text/x-python",
   "name": "python",
   "nbconvert_exporter": "python",
   "pygments_lexer": "ipython3",
   "version": "3.11.4"
  }
 },
 "nbformat": 4,
 "nbformat_minor": 5
}
